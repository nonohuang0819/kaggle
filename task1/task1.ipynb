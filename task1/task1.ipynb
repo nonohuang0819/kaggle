{
 "cells": [
  {
   "cell_type": "markdown",
   "id": "4f3d4034",
   "metadata": {
    "papermill": {
     "duration": 0.003328,
     "end_time": "2024-11-23T07:27:48.904622",
     "exception": false,
     "start_time": "2024-11-23T07:27:48.901294",
     "status": "completed"
    },
    "tags": []
   },
   "source": [
    "## **載入必要套件**"
   ]
  },
  {
   "cell_type": "code",
   "execution_count": 58,
   "id": "5c8e6d02",
   "metadata": {
    "_cell_guid": "b1076dfc-b9ad-4769-8c92-a6c4dae69d19",
    "_uuid": "8f2839f25d086af736a60e9eeb907d3b93b6e0e5",
    "execution": {
     "iopub.execute_input": "2024-11-23T07:27:48.912944Z",
     "iopub.status.busy": "2024-11-23T07:27:48.912508Z",
     "iopub.status.idle": "2024-11-23T07:27:52.633220Z",
     "shell.execute_reply": "2024-11-23T07:27:52.631757Z"
    },
    "papermill": {
     "duration": 3.728695,
     "end_time": "2024-11-23T07:27:52.636444",
     "exception": false,
     "start_time": "2024-11-23T07:27:48.907749",
     "status": "completed"
    },
    "tags": []
   },
   "outputs": [],
   "source": [
    "import numpy as np \n",
    "import pandas as pd \n",
    "import os\n",
    "from sklearn.model_selection import train_test_split, cross_val_score, GridSearchCV\n",
    "from sklearn.preprocessing import LabelEncoder\n",
    "from sklearn.ensemble import RandomForestClassifier\n",
    "from sklearn.metrics import classification_report, accuracy_score\n",
    "import matplotlib.pyplot as plt\n",
    "import seaborn as sns\n",
    "from sklearn.svm import SVC\n",
    "import category_encoders as ce\n"
   ]
  },
  {
   "cell_type": "markdown",
   "id": "799a8f7a",
   "metadata": {
    "papermill": {
     "duration": 0.002871,
     "end_time": "2024-11-23T07:27:52.642640",
     "exception": false,
     "start_time": "2024-11-23T07:27:52.639769",
     "status": "completed"
    },
    "tags": []
   },
   "source": [
    "## **讀取資料**"
   ]
  },
  {
   "cell_type": "code",
   "execution_count": 59,
   "id": "ee6b9ffc",
   "metadata": {},
   "outputs": [
    {
     "name": "stdout",
     "output_type": "stream",
     "text": [
      "File exists\n",
      "       f0   f1   f2   f3   f4   f5   f6   f7   f8   f9  ...   f11   f12   f13  \\\n",
      "0     f01  f11  f21  f31  f40  f50  f61  f71  f81  f90  ...  f111  f121  f130   \n",
      "1     f00  f10  f21  f31  f40  f51  f60  f71  f81  f91  ...  f111  f121  f131   \n",
      "2     f01  f10  f21  f30  f40  f50  f61  f71  f81  f90  ...  f111  f121  f131   \n",
      "3     f00  f10  f21  f30  f40  f51  f60  f71  f80  f90  ...  f111  f121  f130   \n",
      "4     f00  f11  f21  f30  f40  f50  f60  f71  f81  f90  ...  f111  f121  f131   \n",
      "...   ...  ...  ...  ...  ...  ...  ...  ...  ...  ...  ...   ...   ...   ...   \n",
      "2395  f00  f10  f21  f31  f40  f50  f60  f70  f80  f90  ...  f111  f121  f131   \n",
      "2396  f01  f10  f21  f30  f40  f51  f60  f70  f80  f90  ...  f111  f121  f131   \n",
      "2397  f00  f11  f21  f31  f41  f51  f60  f71  f81  f90  ...  f111  f121  f131   \n",
      "2398  f00  f11  f21  f31  f41  f51  f60  f71  f80  f91  ...  f111  f121  f131   \n",
      "2399  f00  f11  f20  f30  f40  f50  f60  f71  f81  f90  ...  f111  f121  f131   \n",
      "\n",
      "       f14   f15   f16   f17   f18   f19 class  \n",
      "0     f141  f150  f161  f170  f181  f191    C0  \n",
      "1     f141  f150  f161  f170  f181  f191    C0  \n",
      "2     f141  f150  f161  f170  f181  f191    C0  \n",
      "3     f140  f150  f161  f171  f181  f191    C0  \n",
      "4     f141  f151  f161  f170  f181  f191    C0  \n",
      "...    ...   ...   ...   ...   ...   ...   ...  \n",
      "2395  f140  f150  f160  f171  f180  f190    C2  \n",
      "2396  f141  f150  f160  f171  f180  f191    C2  \n",
      "2397  f140  f150  f160  f170  f180  f190    C2  \n",
      "2398  f141  f150  f161  f170  f181  f191    C2  \n",
      "2399  f141  f150  f160  f170  f181  f191    C2  \n",
      "\n",
      "[2400 rows x 21 columns]\n"
     ]
    }
   ],
   "source": [
    "file_path = r'C:\\Users\\nonohuang\\OneDrive\\桌面\\kaggle\\kaggle\\task1\\introml_2024_task1_train.csv'\n",
    "\n",
    "if os.path.exists(file_path):\n",
    "    print(\"File exists\")\n",
    "    data = pd.read_csv(r'C:\\Users\\nonohuang\\OneDrive\\桌面\\kaggle\\kaggle\\task1\\introml_2024_task1_train.csv')\n",
    "    print(data)\n",
    "else:\n",
    "    print(\"File does not exist\")"
   ]
  },
  {
   "cell_type": "markdown",
   "id": "8273e036",
   "metadata": {},
   "source": [
    "## **檢查資料缺失值並補齊**"
   ]
  },
  {
   "cell_type": "code",
   "execution_count": 60,
   "id": "f38e220f",
   "metadata": {},
   "outputs": [
    {
     "name": "stdout",
     "output_type": "stream",
     "text": [
      "f0       0\n",
      "f1       0\n",
      "f2       0\n",
      "f3       0\n",
      "f4       0\n",
      "f5       0\n",
      "f6       0\n",
      "f7       0\n",
      "f8       0\n",
      "f9       0\n",
      "f10      0\n",
      "f11      0\n",
      "f12      0\n",
      "f13      0\n",
      "f14      0\n",
      "f15      0\n",
      "f16      0\n",
      "f17      0\n",
      "f18      0\n",
      "f19      0\n",
      "class    0\n",
      "dtype: int64\n"
     ]
    },
    {
     "name": "stderr",
     "output_type": "stream",
     "text": [
      "C:\\Users\\nonohuang\\AppData\\Local\\Temp\\ipykernel_20912\\993326744.py:5: FutureWarning: Dropping of nuisance columns in DataFrame reductions (with 'numeric_only=None') is deprecated; in a future version this will raise TypeError.  Select only valid columns before calling the reduction.\n",
      "  data.fillna(data.mean(), inplace=True)\n"
     ]
    }
   ],
   "source": [
    "# 檢查是否有缺失值\n",
    "print(data.isnull().sum())\n",
    "\n",
    "# 處理缺失值（這裡我們選擇用均值填補缺失值）\n",
    "data.fillna(data.mean(), inplace=True)"
   ]
  },
  {
   "cell_type": "code",
   "execution_count": 61,
   "id": "010bb867",
   "metadata": {},
   "outputs": [],
   "source": [
    "# 分割特徵和標籤\n",
    "X = data.drop('class', axis=1)\n",
    "y = data['class']\n",
    "\n",
    "# 使用FrequencyEncoder對類別型特徵進行編碼\n",
    "encoder = ce.CountEncoder()\n",
    "X_encoded = encoder.fit_transform(X)\n",
    "# 標籤編碼\n",
    "label_encoder = LabelEncoder()\n",
    "y_encoded = label_encoder.fit_transform(y)"
   ]
  },
  {
   "cell_type": "code",
   "execution_count": 62,
   "id": "d40274a6",
   "metadata": {},
   "outputs": [
    {
     "data": {
      "text/plain": [
       "array([0, 0, 0, ..., 2, 2, 2])"
      ]
     },
     "execution_count": 62,
     "metadata": {},
     "output_type": "execute_result"
    }
   ],
   "source": [
    "X_encoded\n",
    "y_encoded"
   ]
  },
  {
   "cell_type": "code",
   "execution_count": 63,
   "id": "f6e7c24b",
   "metadata": {},
   "outputs": [],
   "source": [
    "# 分割資料為訓練集和測試集\n",
    "X_train, X_test, y_train, y_test = train_test_split(X_encoded, y_encoded, test_size=0.2, random_state=42)"
   ]
  },
  {
   "cell_type": "code",
   "execution_count": 64,
   "id": "a36a9b4e",
   "metadata": {},
   "outputs": [
    {
     "data": {
      "text/html": [
       "<style>#sk-container-id-6 {color: black;}#sk-container-id-6 pre{padding: 0;}#sk-container-id-6 div.sk-toggleable {background-color: white;}#sk-container-id-6 label.sk-toggleable__label {cursor: pointer;display: block;width: 100%;margin-bottom: 0;padding: 0.3em;box-sizing: border-box;text-align: center;}#sk-container-id-6 label.sk-toggleable__label-arrow:before {content: \"▸\";float: left;margin-right: 0.25em;color: #696969;}#sk-container-id-6 label.sk-toggleable__label-arrow:hover:before {color: black;}#sk-container-id-6 div.sk-estimator:hover label.sk-toggleable__label-arrow:before {color: black;}#sk-container-id-6 div.sk-toggleable__content {max-height: 0;max-width: 0;overflow: hidden;text-align: left;background-color: #f0f8ff;}#sk-container-id-6 div.sk-toggleable__content pre {margin: 0.2em;color: black;border-radius: 0.25em;background-color: #f0f8ff;}#sk-container-id-6 input.sk-toggleable__control:checked~div.sk-toggleable__content {max-height: 200px;max-width: 100%;overflow: auto;}#sk-container-id-6 input.sk-toggleable__control:checked~label.sk-toggleable__label-arrow:before {content: \"▾\";}#sk-container-id-6 div.sk-estimator input.sk-toggleable__control:checked~label.sk-toggleable__label {background-color: #d4ebff;}#sk-container-id-6 div.sk-label input.sk-toggleable__control:checked~label.sk-toggleable__label {background-color: #d4ebff;}#sk-container-id-6 input.sk-hidden--visually {border: 0;clip: rect(1px 1px 1px 1px);clip: rect(1px, 1px, 1px, 1px);height: 1px;margin: -1px;overflow: hidden;padding: 0;position: absolute;width: 1px;}#sk-container-id-6 div.sk-estimator {font-family: monospace;background-color: #f0f8ff;border: 1px dotted black;border-radius: 0.25em;box-sizing: border-box;margin-bottom: 0.5em;}#sk-container-id-6 div.sk-estimator:hover {background-color: #d4ebff;}#sk-container-id-6 div.sk-parallel-item::after {content: \"\";width: 100%;border-bottom: 1px solid gray;flex-grow: 1;}#sk-container-id-6 div.sk-label:hover label.sk-toggleable__label {background-color: #d4ebff;}#sk-container-id-6 div.sk-serial::before {content: \"\";position: absolute;border-left: 1px solid gray;box-sizing: border-box;top: 0;bottom: 0;left: 50%;z-index: 0;}#sk-container-id-6 div.sk-serial {display: flex;flex-direction: column;align-items: center;background-color: white;padding-right: 0.2em;padding-left: 0.2em;position: relative;}#sk-container-id-6 div.sk-item {position: relative;z-index: 1;}#sk-container-id-6 div.sk-parallel {display: flex;align-items: stretch;justify-content: center;background-color: white;position: relative;}#sk-container-id-6 div.sk-item::before, #sk-container-id-6 div.sk-parallel-item::before {content: \"\";position: absolute;border-left: 1px solid gray;box-sizing: border-box;top: 0;bottom: 0;left: 50%;z-index: -1;}#sk-container-id-6 div.sk-parallel-item {display: flex;flex-direction: column;z-index: 1;position: relative;background-color: white;}#sk-container-id-6 div.sk-parallel-item:first-child::after {align-self: flex-end;width: 50%;}#sk-container-id-6 div.sk-parallel-item:last-child::after {align-self: flex-start;width: 50%;}#sk-container-id-6 div.sk-parallel-item:only-child::after {width: 0;}#sk-container-id-6 div.sk-dashed-wrapped {border: 1px dashed gray;margin: 0 0.4em 0.5em 0.4em;box-sizing: border-box;padding-bottom: 0.4em;background-color: white;}#sk-container-id-6 div.sk-label label {font-family: monospace;font-weight: bold;display: inline-block;line-height: 1.2em;}#sk-container-id-6 div.sk-label-container {text-align: center;}#sk-container-id-6 div.sk-container {/* jupyter's `normalize.less` sets `[hidden] { display: none; }` but bootstrap.min.css set `[hidden] { display: none !important; }` so we also need the `!important` here to be able to override the default hidden behavior on the sphinx rendered scikit-learn.org. See: https://github.com/scikit-learn/scikit-learn/issues/21755 */display: inline-block !important;position: relative;}#sk-container-id-6 div.sk-text-repr-fallback {display: none;}</style><div id=\"sk-container-id-6\" class=\"sk-top-container\"><div class=\"sk-text-repr-fallback\"><pre>SVC()</pre><b>In a Jupyter environment, please rerun this cell to show the HTML representation or trust the notebook. <br />On GitHub, the HTML representation is unable to render, please try loading this page with nbviewer.org.</b></div><div class=\"sk-container\" hidden><div class=\"sk-item\"><div class=\"sk-estimator sk-toggleable\"><input class=\"sk-toggleable__control sk-hidden--visually\" id=\"sk-estimator-id-6\" type=\"checkbox\" checked><label for=\"sk-estimator-id-6\" class=\"sk-toggleable__label sk-toggleable__label-arrow\">SVC</label><div class=\"sk-toggleable__content\"><pre>SVC()</pre></div></div></div></div></div>"
      ],
      "text/plain": [
       "SVC()"
      ]
     },
     "execution_count": 64,
     "metadata": {},
     "output_type": "execute_result"
    }
   ],
   "source": [
    "# 建立SVC分類模型\n",
    "model = SVC()\n",
    "\n",
    "# 進行交叉驗證\n",
    "scores = cross_val_score(model, X_encoded, y_encoded, cv=5)\n",
    "\n",
    "model.fit(X_train, y_train)"
   ]
  },
  {
   "cell_type": "code",
   "execution_count": 65,
   "id": "b94a8a45",
   "metadata": {},
   "outputs": [
    {
     "name": "stdout",
     "output_type": "stream",
     "text": [
      "Cross-validation scores: [0.83541667 0.78541667 0.80625    0.775      0.80625   ]\n",
      "Average cross-validation score: 0.8016666666666667\n"
     ]
    }
   ],
   "source": [
    "# 輸出每次交叉驗證的準確率\n",
    "print(f'Cross-validation scores: {scores}')\n",
    "\n",
    "# 輸出平均準確率\n",
    "print(f'Average cross-validation score: {scores.mean()}')"
   ]
  },
  {
   "cell_type": "code",
   "execution_count": 66,
   "id": "16cf1759",
   "metadata": {},
   "outputs": [
    {
     "name": "stdout",
     "output_type": "stream",
     "text": [
      "File exists\n",
      "      id   f0   f1   f2   f3   f4   f5   f6   f7   f8  ...   f10   f11   f12  \\\n",
      "0      0  f00  f10  f21  f31  f41  f50  f61  f71  f80  ...  f100  f110  f121   \n",
      "1      1  f00  f10  f21  f31  f41  f50  f61  f71  f81  ...  f101  f111  f120   \n",
      "2      2  f00  f10  f21  f30  f40  f51  f61  f70  f81  ...  f100  f111  f121   \n",
      "3      3  f00  f10  f21  f30  f41  f51  f60  f71  f80  ...  f101  f111  f121   \n",
      "4      4  f00  f10  f20  f31  f40  f50  f60  f71  f81  ...  f100  f111  f121   \n",
      "..   ...  ...  ...  ...  ...  ...  ...  ...  ...  ...  ...   ...   ...   ...   \n",
      "595  595  f01  f10  f21  f30  f41  f50  f60  f70  f81  ...  f100  f111  f121   \n",
      "596  596  f00  f11  f21  f30  f40  f50  f60  f71  f81  ...  f100  f111  f121   \n",
      "597  597  f00  f10  f21  f30  f40  f50  f60  f71  f81  ...  f100  f111  f121   \n",
      "598  598  f00  f10  f21  f30  f40  f50  f60  f70  f81  ...  f100  f111  f121   \n",
      "599  599  f00  f11  f20  f30  f40  f50  f60  f71  f81  ...  f100  f111  f121   \n",
      "\n",
      "      f13   f14   f15   f16   f17   f18   f19  \n",
      "0    f130  f140  f151  f161  f170  f180  f191  \n",
      "1    f131  f141  f151  f160  f170  f181  f190  \n",
      "2    f131  f141  f150  f160  f170  f181  f190  \n",
      "3    f130  f141  f150  f160  f170  f181  f191  \n",
      "4    f130  f140  f150  f161  f170  f181  f191  \n",
      "..    ...   ...   ...   ...   ...   ...   ...  \n",
      "595  f131  f141  f150  f160  f171  f180  f191  \n",
      "596  f131  f141  f150  f161  f170  f181  f191  \n",
      "597  f130  f141  f151  f160  f171  f181  f191  \n",
      "598  f131  f141  f150  f160  f170  f180  f191  \n",
      "599  f130  f140  f150  f161  f170  f181  f191  \n",
      "\n",
      "[600 rows x 21 columns]\n"
     ]
    }
   ],
   "source": [
    "file_path = r'C:\\Users\\nonohuang\\OneDrive\\桌面\\kaggle\\kaggle\\task1\\introml_2024_task1_test_NO_answers_shuffled.csv'\n",
    "\n",
    "if os.path.exists(file_path):\n",
    "    print(\"File exists\")\n",
    "    test_data = pd.read_csv(file_path)\n",
    "    print(test_data)\n",
    "else:\n",
    "    print(\"File does not exist\")\n"
   ]
  },
  {
   "cell_type": "code",
   "execution_count": 67,
   "id": "2aa72d84",
   "metadata": {},
   "outputs": [],
   "source": [
    "# 使用FrequencyEncoder對類別型特徵進行編碼\n",
    "X_test_encoded = encoder.transform(test_data.drop(columns=['id']))\n",
    "# 預測\n",
    "test_predictions = model.predict(X_test_encoded)\n",
    "# 將預測結果轉換回原始標籤\n",
    "test_predictions_labels = label_encoder.inverse_transform(test_predictions)\n"
   ]
  },
  {
   "cell_type": "code",
   "execution_count": 68,
   "id": "bd40bf66",
   "metadata": {},
   "outputs": [
    {
     "name": "stdout",
     "output_type": "stream",
     "text": [
      "Predictions saved to submission.csv\n"
     ]
    }
   ],
   "source": [
    "# 將預測結果保存到csv文件\n",
    "submission = pd.DataFrame({'id': test_data['id'], 'class': test_predictions_labels})\n",
    "submission.to_csv('submission.csv', index=False)\n",
    "\n",
    "print(\"Predictions saved to submission.csv\")"
   ]
  }
 ],
 "metadata": {
  "kaggle": {
   "accelerator": "none",
   "dataSources": [
    {
     "databundleVersionId": 10119096,
     "sourceId": 88297,
     "sourceType": "competition"
    }
   ],
   "dockerImageVersionId": 30786,
   "isGpuEnabled": false,
   "isInternetEnabled": false,
   "language": "python",
   "sourceType": "notebook"
  },
  "kernelspec": {
   "display_name": "Python 3",
   "language": "python",
   "name": "python3"
  },
  "language_info": {
   "codemirror_mode": {
    "name": "ipython",
    "version": 3
   },
   "file_extension": ".py",
   "mimetype": "text/x-python",
   "name": "python",
   "nbconvert_exporter": "python",
   "pygments_lexer": "ipython3",
   "version": "3.10.4"
  },
  "papermill": {
   "default_parameters": {},
   "duration": 8.612614,
   "end_time": "2024-11-23T07:27:53.868253",
   "environment_variables": {},
   "exception": null,
   "input_path": "__notebook__.ipynb",
   "output_path": "__notebook__.ipynb",
   "parameters": {},
   "start_time": "2024-11-23T07:27:45.255639",
   "version": "2.6.0"
  }
 },
 "nbformat": 4,
 "nbformat_minor": 5
}
