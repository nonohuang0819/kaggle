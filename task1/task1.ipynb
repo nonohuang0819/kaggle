{
 "cells": [
  {
   "cell_type": "markdown",
   "id": "4f3d4034",
   "metadata": {
    "papermill": {
     "duration": 0.003328,
     "end_time": "2024-11-23T07:27:48.904622",
     "exception": false,
     "start_time": "2024-11-23T07:27:48.901294",
     "status": "completed"
    },
    "tags": []
   },
   "source": [
    "## **載入必要套件**"
   ]
  },
  {
   "cell_type": "code",
   "execution_count": 6,
   "id": "5c8e6d02",
   "metadata": {
    "_cell_guid": "b1076dfc-b9ad-4769-8c92-a6c4dae69d19",
    "_uuid": "8f2839f25d086af736a60e9eeb907d3b93b6e0e5",
    "execution": {
     "iopub.execute_input": "2024-11-23T07:27:48.912944Z",
     "iopub.status.busy": "2024-11-23T07:27:48.912508Z",
     "iopub.status.idle": "2024-11-23T07:27:52.633220Z",
     "shell.execute_reply": "2024-11-23T07:27:52.631757Z"
    },
    "papermill": {
     "duration": 3.728695,
     "end_time": "2024-11-23T07:27:52.636444",
     "exception": false,
     "start_time": "2024-11-23T07:27:48.907749",
     "status": "completed"
    },
    "tags": []
   },
   "outputs": [],
   "source": [
    "import numpy as np \n",
    "import pandas as pd \n",
    "import os\n",
    "from sklearn.model_selection import train_test_split, cross_val_score, GridSearchCV\n",
    "from sklearn.preprocessing import LabelEncoder\n",
    "from sklearn.ensemble import RandomForestClassifier\n",
    "from sklearn.metrics import classification_report, accuracy_score\n",
    "import matplotlib.pyplot as plt\n",
    "import seaborn as sns\n",
    "from sklearn.svm import SVC\n",
    "import category_encoders as ce\n"
   ]
  },
  {
   "cell_type": "markdown",
   "id": "799a8f7a",
   "metadata": {
    "papermill": {
     "duration": 0.002871,
     "end_time": "2024-11-23T07:27:52.642640",
     "exception": false,
     "start_time": "2024-11-23T07:27:52.639769",
     "status": "completed"
    },
    "tags": []
   },
   "source": [
    "## **讀取資料**"
   ]
  },
  {
   "cell_type": "code",
   "execution_count": null,
   "id": "ee6b9ffc",
   "metadata": {},
   "outputs": [],
   "source": [
    "file_path = r'C:\\Users\\nonohuang\\OneDrive\\桌面\\kaggle\\kaggle\\task1\\introml_2024_task1_train.csv'\n",
    "\n",
    "if os.path.exists(file_path):\n",
    "    print(\"File exists\")\n",
    "    data = pd.read_csv(r'C:\\Users\\nonohuang\\OneDrive\\桌面\\kaggle\\kaggle\\task1\\introml_2024_task1_train.csv')\n",
    "    print(data)\n",
    "else:\n",
    "    print(\"File does not exist\")"
   ]
  },
  {
   "cell_type": "markdown",
   "id": "8273e036",
   "metadata": {},
   "source": [
    "## **檢查資料缺失值並補齊**"
   ]
  },
  {
   "cell_type": "code",
   "execution_count": null,
   "id": "f38e220f",
   "metadata": {},
   "outputs": [],
   "source": [
    "# 檢查是否有缺失值\n",
    "print(data.isnull().sum())\n",
    "\n",
    "# 處理缺失值（這裡我們選擇用均值填補缺失值）\n",
    "data.fillna(data.mean(), inplace=True)"
   ]
  },
  {
   "cell_type": "code",
   "execution_count": null,
   "id": "010bb867",
   "metadata": {},
   "outputs": [],
   "source": [
    "# 分割特徵和標籤\n",
    "X = data.drop('class', axis=1)\n",
    "y = data['class']\n",
    "\n",
    "# 使用FrequencyEncoder對類別型特徵進行編碼\n",
    "encoder = ce.CountEncoder()\n",
    "X_encoded = encoder.fit_transform(X)\n",
    "# 標籤編碼\n",
    "label_encoder = LabelEncoder()\n",
    "y_encoded = label_encoder.fit_transform(y)"
   ]
  },
  {
   "cell_type": "code",
   "execution_count": null,
   "id": "d40274a6",
   "metadata": {},
   "outputs": [],
   "source": [
    "X_encoded\n",
    "y_encoded"
   ]
  },
  {
   "cell_type": "code",
   "execution_count": null,
   "id": "f6e7c24b",
   "metadata": {},
   "outputs": [],
   "source": [
    "# 分割資料為訓練集和測試集\n",
    "X_train, X_test, y_train, y_test = train_test_split(X_encoded, y_encoded, test_size=0.2, random_state=42)"
   ]
  },
  {
   "cell_type": "code",
   "execution_count": null,
   "id": "a36a9b4e",
   "metadata": {},
   "outputs": [],
   "source": [
    "# 建立SVC分類模型\n",
    "model = SVC()\n",
    "\n",
    "# 進行交叉驗證\n",
    "scores = cross_val_score(model, X_encoded, y_encoded, cv=5)\n",
    "\n",
    "model.fit(X_train, y_train)"
   ]
  },
  {
   "cell_type": "code",
   "execution_count": null,
   "id": "b94a8a45",
   "metadata": {},
   "outputs": [],
   "source": [
    "# 輸出每次交叉驗證的準確率\n",
    "print(f'Cross-validation scores: {scores}')\n",
    "\n",
    "# 輸出平均準確率\n",
    "print(f'Average cross-validation score: {scores.mean()}')"
   ]
  },
  {
   "cell_type": "code",
   "execution_count": null,
   "id": "16cf1759",
   "metadata": {},
   "outputs": [],
   "source": [
    "file_path = r'C:\\Users\\nonohuang\\OneDrive\\桌面\\kaggle\\kaggle\\task1\\introml_2024_task1_test_NO_answers_shuffled.csv'\n",
    "\n",
    "if os.path.exists(file_path):\n",
    "    print(\"File exists\")\n",
    "    test_data = pd.read_csv(file_path)\n",
    "    print(test_data)\n",
    "else:\n",
    "    print(\"File does not exist\")\n"
   ]
  },
  {
   "cell_type": "code",
   "execution_count": null,
   "id": "2aa72d84",
   "metadata": {},
   "outputs": [],
   "source": [
    "# 使用FrequencyEncoder對類別型特徵進行編碼\n",
    "X_test_encoded = encoder.transform(test_data.drop(columns=['id']))\n",
    "# 預測\n",
    "test_predictions = model.predict(X_test_encoded)\n",
    "# 將預測結果轉換回原始標籤\n",
    "test_predictions_labels = label_encoder.inverse_transform(test_predictions)\n"
   ]
  },
  {
   "cell_type": "code",
   "execution_count": null,
   "id": "bd40bf66",
   "metadata": {},
   "outputs": [],
   "source": [
    "# 將預測結果保存到csv文件\n",
    "submission = pd.DataFrame({'id': test_data['id'], 'class': test_predictions_labels})\n",
    "submission.to_csv('submission.csv', index=False)\n",
    "\n",
    "print(\"Predictions saved to submission.csv\")"
   ]
  }
 ],
 "metadata": {
  "kaggle": {
   "accelerator": "none",
   "dataSources": [
    {
     "databundleVersionId": 10119096,
     "sourceId": 88297,
     "sourceType": "competition"
    }
   ],
   "dockerImageVersionId": 30786,
   "isGpuEnabled": false,
   "isInternetEnabled": false,
   "language": "python",
   "sourceType": "notebook"
  },
  "kernelspec": {
   "display_name": ".venv",
   "language": "python",
   "name": "python3"
  },
  "language_info": {
   "codemirror_mode": {
    "name": "ipython",
    "version": 3
   },
   "file_extension": ".py",
   "mimetype": "text/x-python",
   "name": "python",
   "nbconvert_exporter": "python",
   "pygments_lexer": "ipython3",
   "version": "3.10.15"
  },
  "papermill": {
   "default_parameters": {},
   "duration": 8.612614,
   "end_time": "2024-11-23T07:27:53.868253",
   "environment_variables": {},
   "exception": null,
   "input_path": "__notebook__.ipynb",
   "output_path": "__notebook__.ipynb",
   "parameters": {},
   "start_time": "2024-11-23T07:27:45.255639",
   "version": "2.6.0"
  }
 },
 "nbformat": 4,
 "nbformat_minor": 5
}
